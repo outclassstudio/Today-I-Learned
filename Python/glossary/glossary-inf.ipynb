{
 "cells": [
  {
   "cell_type": "markdown",
   "metadata": {},
   "source": [
    "### <span style='color: #fcba03'>가장 큰 수 inf</span>\n",
    "- inf는 어떤 숫자와 비교해도 무조건 크다고 판정되는 수\n",
    "- 일종의 무한대\n",
    "- -도 가능함"
   ]
  },
  {
   "cell_type": "code",
   "execution_count": 1,
   "metadata": {},
   "outputs": [
    {
     "name": "stdout",
     "output_type": "stream",
     "text": [
      "inf\n",
      "-inf\n"
     ]
    }
   ],
   "source": [
    "#float 데이터 타입\n",
    "max_val = float('inf')\n",
    "max_val > 10000000000\n",
    "\n",
    "min_val = float('-inf')\n",
    "\n",
    "#파이썬 3.5이상\n",
    "import math\n",
    "\n",
    "positive = math.inf # 양의 무한대\n",
    "print(positive)\n",
    "\n",
    "negative = -math.inf # 음의 무한대\n",
    "print(negative)"
   ]
  }
 ],
 "metadata": {
  "kernelspec": {
   "display_name": "Python 3.10.2 64-bit",
   "language": "python",
   "name": "python3"
  },
  "language_info": {
   "codemirror_mode": {
    "name": "ipython",
    "version": 3
   },
   "file_extension": ".py",
   "mimetype": "text/x-python",
   "name": "python",
   "nbconvert_exporter": "python",
   "pygments_lexer": "ipython3",
   "version": "3.10.2"
  },
  "orig_nbformat": 4,
  "vscode": {
   "interpreter": {
    "hash": "369f2c481f4da34e4445cda3fffd2e751bd1c4d706f27375911949ba6bb62e1c"
   }
  }
 },
 "nbformat": 4,
 "nbformat_minor": 2
}
