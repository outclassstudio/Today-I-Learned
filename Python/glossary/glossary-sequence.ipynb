{
 "cells": [
  {
   "cell_type": "markdown",
   "metadata": {},
   "source": [
    "### <span style='color: #fcba03'>Sequence란</span>\n",
    "- 모든 시퀀스는 순서가 유지되고, 정수로 인덱싱하며, 길이가 있다.\n",
    "- 문자열, 리스트, 튜플"
   ]
  },
  {
   "cell_type": "markdown",
   "metadata": {},
   "source": [
    "### <span style='color: #fcba03'>1. .join()</span>\n",
    "- sequence 멤버를 하나로 이어붙여서 string을 만듦\n",
    "- 구분자.join(시퀀스)"
   ]
  },
  {
   "cell_type": "code",
   "execution_count": 1,
   "metadata": {},
   "outputs": [
    {
     "name": "stdout",
     "output_type": "stream",
     "text": [
      "110033\n"
     ]
    }
   ],
   "source": [
    "#복잡하게 풀기\n",
    "my_list = ['1', '100', '33']\n",
    "answer = ''\n",
    "for value in my_list:\n",
    "    answer += value\n",
    "\n",
    "#join으로 풀기\n",
    "answer = ''.join(my_list)\n",
    "print(answer)"
   ]
  },
  {
   "cell_type": "markdown",
   "metadata": {},
   "source": [
    "### <span style='color: #fcba03'>2. 곱셉(*) 연산</span>\n",
    "- sequence를 반복함\n"
   ]
  },
  {
   "cell_type": "code",
   "execution_count": 2,
   "metadata": {},
   "outputs": [
    {
     "name": "stdout",
     "output_type": "stream",
     "text": [
      "abcabcabcabcabc\n"
     ]
    }
   ],
   "source": [
    "#복잡하게\n",
    "answer = ''\n",
    "n = 5\n",
    "for _ in range(n):\n",
    "    answer += 'abc'\n",
    "\n",
    "#곱셈연산으로\n",
    "answer = 'abc' * n\n",
    "print(answer)"
   ]
  }
 ],
 "metadata": {
  "kernelspec": {
   "display_name": "Python 3.10.2 64-bit",
   "language": "python",
   "name": "python3"
  },
  "language_info": {
   "codemirror_mode": {
    "name": "ipython",
    "version": 3
   },
   "file_extension": ".py",
   "mimetype": "text/x-python",
   "name": "python",
   "nbconvert_exporter": "python",
   "pygments_lexer": "ipython3",
   "version": "3.10.2"
  },
  "orig_nbformat": 4,
  "vscode": {
   "interpreter": {
    "hash": "369f2c481f4da34e4445cda3fffd2e751bd1c4d706f27375911949ba6bb62e1c"
   }
  }
 },
 "nbformat": 4,
 "nbformat_minor": 2
}
