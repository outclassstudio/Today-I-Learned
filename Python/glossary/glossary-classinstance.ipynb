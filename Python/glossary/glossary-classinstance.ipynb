{
 "cells": [
  {
   "cell_type": "markdown",
   "metadata": {},
   "source": [
    "### <span style='color: #fcba03'>클래스 인스턴스 출력 - 자동 string casting</span>\n",
    "- 인스턴스 출력 형식을 지정"
   ]
  },
  {
   "cell_type": "code",
   "execution_count": 3,
   "metadata": {},
   "outputs": [
    {
     "name": "stdout",
     "output_type": "stream",
     "text": [
      "[1, 2]\n",
      "(1, 2)\n",
      "(1, 2)\n"
     ]
    }
   ],
   "source": [
    "class Coord(object):\n",
    "    def __init__(self, x, y):\n",
    "        self.x, self.y = x, y\n",
    "\n",
    "#보통의 방법\n",
    "point1 = Coord(1, 2)\n",
    "# print( '({}, {})'.format(point1.x, point1.y) ) \n",
    "print( [point1.x, point1.y] ) \n",
    "\n",
    "# 또는\n",
    "def print_coord(coord):\n",
    "    print( '({}, {})'.format(coord.x, coord.y) )\n",
    "print_coord(point1)\n",
    "\n",
    "#__str__활용\n",
    "class Coord(object):\n",
    "    def __init__ (self, x, y):\n",
    "        self.x, self.y = x, y\n",
    "    def __str__ (self):\n",
    "        return '({}, {})'.format(self.x, self.y)\n",
    "\n",
    "point2 = Coord(1, 2)\n",
    "print(point2)"
   ]
  },
  {
   "cell_type": "markdown",
   "metadata": {},
   "source": [
    "공부할것\n",
    "- foramt, f스트링"
   ]
  }
 ],
 "metadata": {
  "kernelspec": {
   "display_name": "Python 3.10.2 64-bit",
   "language": "python",
   "name": "python3"
  },
  "language_info": {
   "codemirror_mode": {
    "name": "ipython",
    "version": 3
   },
   "file_extension": ".py",
   "mimetype": "text/x-python",
   "name": "python",
   "nbconvert_exporter": "python",
   "pygments_lexer": "ipython3",
   "version": "3.10.2"
  },
  "orig_nbformat": 4,
  "vscode": {
   "interpreter": {
    "hash": "369f2c481f4da34e4445cda3fffd2e751bd1c4d706f27375911949ba6bb62e1c"
   }
  }
 },
 "nbformat": 4,
 "nbformat_minor": 2
}
