{
 "cells": [
  {
   "cell_type": "markdown",
   "metadata": {},
   "source": [
    "### <span style='color: #fcba03'>1. ljust, center, rjust</span>\n",
    "- ljust: 문자열 왼쪽 정렬\n",
    "- center: 문자열 가운데 정렬\n",
    "- rjust : 문자열 오른쪽 정렬"
   ]
  },
  {
   "cell_type": "code",
   "execution_count": 2,
   "metadata": {},
   "outputs": [
    {
     "name": "stdout",
     "output_type": "stream",
     "text": [
      "   가나다라\n",
      "왼쪽정렬 가나다라\n",
      "가운데정렬 가나다라\n",
      "오른쪽정렬 가나다라\n"
     ]
    }
   ],
   "source": [
    "### 우측 정렬 예\n",
    "s = '가나다라'\n",
    "n = 7\n",
    "\n",
    "answer = ''\n",
    "for i in range(n-len(s)): # 문자열의 앞을 빈 문자열로 채우는 for 문\n",
    "    answer += ' '\n",
    "answer += s\n",
    "print(answer)\n",
    "\n",
    "s.ljust(n) # 좌측 정렬\n",
    "print(\"왼쪽정렬\", s)\n",
    "s.center(n) # 가운데 정렬\n",
    "print(\"가운데정렬\", s)\n",
    "s.rjust(n) # 우측 정렬\n",
    "print(\"오른쪽정렬\", s)"
   ]
  },
  {
   "cell_type": "markdown",
   "metadata": {},
   "source": [
    "### <span style='color: #fcba03'>2. str의 상수들</span>\n",
    "- string.ascii_lowercase : 소문자 abcdefghijklmnopqrstuvwxyz\n",
    "- string.ascii_uppercase : 대문자 ABCDEFGHIJKLMNOPQRSTUVWXYZ\n",
    "- string.ascii_letters : 대소문자 모두 abcdefghijklmnopqrstuvwxyzABCDEFGHIJKLMNOPQRSTUVWXYZ\n",
    "- string.digits : 숫자 0123456789"
   ]
  },
  {
   "cell_type": "code",
   "execution_count": null,
   "metadata": {},
   "outputs": [],
   "source": [
    "#조건에 따라 대문자 또는 소문자 출력하기\n",
    "import string\n",
    "\n",
    "num = int(input().strip())\n",
    "if num:\n",
    "    print(string.ascii_uppercase)\n",
    "else: \n",
    "    print(string.ascii_lowercase)"
   ]
  }
 ],
 "metadata": {
  "kernelspec": {
   "display_name": "Python 3.10.2 64-bit",
   "language": "python",
   "name": "python3"
  },
  "language_info": {
   "codemirror_mode": {
    "name": "ipython",
    "version": 3
   },
   "file_extension": ".py",
   "mimetype": "text/x-python",
   "name": "python",
   "nbconvert_exporter": "python",
   "pygments_lexer": "ipython3",
   "version": "3.10.2"
  },
  "orig_nbformat": 4,
  "vscode": {
   "interpreter": {
    "hash": "369f2c481f4da34e4445cda3fffd2e751bd1c4d706f27375911949ba6bb62e1c"
   }
  }
 },
 "nbformat": 4,
 "nbformat_minor": 2
}
