{
 "cells": [
  {
   "cell_type": "markdown",
   "metadata": {},
   "source": [
    "### <span style='color: #fcba03'>1. 곱집합(Cartesian product) 구하기 - product</span>\n",
    "- 곱집합?\n",
    "- 예시) 두 스트링 'ABCD', 'xy' 의 곱집합 → Ax Ay Bx By Cx Cy Dx Dy"
   ]
  },
  {
   "cell_type": "code",
   "execution_count": null,
   "metadata": {},
   "outputs": [],
   "source": [
    "#복잡한 구현\n",
    "iterable1 = 'ABCD'\n",
    "iterable2 = 'xy'\n",
    "iterable3 = '1234'\n",
    "\n",
    "for value1 in iterable1:\n",
    "    for value2 in iterable2:\n",
    "        for value3 in iterable3:\n",
    "            print(value1, value2, value3)\n",
    "\n",
    "#itertools활용\n",
    "import itertools\n",
    "\n",
    "print(list(itertools.product(iterable1, iterable2, iterable3)))"
   ]
  },
  {
   "cell_type": "markdown",
   "metadata": {},
   "source": [
    "### <span style='color: #fcba03'>2. 2차원 리스트를 1차원 리스트로 만들기</span>\n",
    "- sum 활용\n",
    "- itertools 활용\n",
    "- list comprehension 활용\n",
    "- reduce 활용\n",
    "- numpy활용\n",
    "  - numpy의 경우 각 원소의 길이가 동일한 경우에만 사용 가능"
   ]
  },
  {
   "cell_type": "code",
   "execution_count": null,
   "metadata": {},
   "outputs": [],
   "source": [
    "#for문 활용\n",
    "mylist = [[1, 2], [3, 4], [5, 6]]\n",
    "answer1 = []\n",
    "for el in mylist:\n",
    "  answer1 += el\n",
    "print(1, answer1)\n",
    "\n",
    "#sum활용\n",
    "answer2 = sum(mylist, [])\n",
    "print(2, answer2)\n",
    "\n",
    "#itertools활용\n",
    "import itertools\n",
    "\n",
    "answer3 = list(itertools.chain.from_iterable(mylist))\n",
    "print(3, answer3)\n",
    "\n",
    "#?unpakcing과 함께 활용\n",
    "answer4 = list(itertools.chain(*mylist))\n",
    "print(4, answer4)\n",
    "\n",
    "#list comprehension 활용\n",
    "answer5 = [el for array in mylist for el in array]\n",
    "print(5, answer5)\n",
    "\n",
    "#reduce활용\n",
    "from functools import reduce \n",
    "\n",
    "answer6 = reduce(lambda x,y: x+y, mylist)\n",
    "print(6, answer6)\n",
    "\n",
    "#?operator와 함께 할용\n",
    "import operator\n",
    "\n",
    "answer7 = reduce(operator.add, mylist)\n",
    "print(7, answer7)"
   ]
  },
  {
   "cell_type": "markdown",
   "metadata": {},
   "source": [
    "### <span style='color: #fcba03'>3. 순열과 조합</span>\n",
    "- itertools.permutations(list, n) / itertools.combinations(list, n)\n",
    "  - n은 원하는 원소의 개수\n",
    "  - 튜플을 리턴함 → map(\"\".join, list) 등으로 리스트로 변환"
   ]
  },
  {
   "cell_type": "code",
   "execution_count": 3,
   "metadata": {},
   "outputs": [
    {
     "name": "stdout",
     "output_type": "stream",
     "text": [
      "['ABC', 'ACB', 'BAC', 'BCA', 'CAB', 'CBA']\n"
     ]
    }
   ],
   "source": [
    "#for문을 이용하는 방식\n",
    "def permute(arr):\n",
    "    #? arr[:]는 arr의 복사본을 리턴한다\n",
    "    result = [arr[:]]\n",
    "    c = [0] * len(arr)\n",
    "    i = 0\n",
    "    while i < len(arr):\n",
    "        if c[i] < i:\n",
    "            if i % 2 == 0:\n",
    "                arr[0], arr[i] = arr[i], arr[0]\n",
    "            else:\n",
    "                arr[c[i]], arr[i] = arr[i], arr[c[i]]\n",
    "            result.append(arr[:])\n",
    "            c[i] += 1\n",
    "            i = 0\n",
    "        else:\n",
    "            c[i] = 0\n",
    "            i += 1\n",
    "    return result\n",
    "\n",
    "#itertools이용\n",
    "import itertools\n",
    "pool = ['A', 'B', 'C']\n",
    "\n",
    "per = list(map(\"\".join, list(itertools.permutations(pool))))\n",
    "print(per)\n",
    "\n"
   ]
  }
 ],
 "metadata": {
  "kernelspec": {
   "display_name": "Python 3.10.2 64-bit",
   "language": "python",
   "name": "python3"
  },
  "language_info": {
   "codemirror_mode": {
    "name": "ipython",
    "version": 3
   },
   "file_extension": ".py",
   "mimetype": "text/x-python",
   "name": "python",
   "nbconvert_exporter": "python",
   "pygments_lexer": "ipython3",
   "version": "3.10.2"
  },
  "orig_nbformat": 4,
  "vscode": {
   "interpreter": {
    "hash": "369f2c481f4da34e4445cda3fffd2e751bd1c4d706f27375911949ba6bb62e1c"
   }
  }
 },
 "nbformat": 4,
 "nbformat_minor": 2
}
