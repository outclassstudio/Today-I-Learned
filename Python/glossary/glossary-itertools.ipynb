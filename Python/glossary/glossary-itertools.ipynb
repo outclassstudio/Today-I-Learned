{
 "cells": [
  {
   "cell_type": "markdown",
   "metadata": {},
   "source": [
    "### <span style='color: #fcba03'>1. 곱집합(Cartesian product) 구하기 - product</span>\n",
    "- 곱집합?\n",
    "- 예시) 두 스트링 'ABCD', 'xy' 의 곱집합 → Ax Ay Bx By Cx Cy Dx Dy"
   ]
  },
  {
   "cell_type": "code",
   "execution_count": 1,
   "metadata": {},
   "outputs": [
    {
     "name": "stdout",
     "output_type": "stream",
     "text": [
      "A x 1\n",
      "A x 2\n",
      "A x 3\n",
      "A x 4\n",
      "A y 1\n",
      "A y 2\n",
      "A y 3\n",
      "A y 4\n",
      "B x 1\n",
      "B x 2\n",
      "B x 3\n",
      "B x 4\n",
      "B y 1\n",
      "B y 2\n",
      "B y 3\n",
      "B y 4\n",
      "C x 1\n",
      "C x 2\n",
      "C x 3\n",
      "C x 4\n",
      "C y 1\n",
      "C y 2\n",
      "C y 3\n",
      "C y 4\n",
      "D x 1\n",
      "D x 2\n",
      "D x 3\n",
      "D x 4\n",
      "D y 1\n",
      "D y 2\n",
      "D y 3\n",
      "D y 4\n",
      "[('A', 'x', '1'), ('A', 'x', '2'), ('A', 'x', '3'), ('A', 'x', '4'), ('A', 'y', '1'), ('A', 'y', '2'), ('A', 'y', '3'), ('A', 'y', '4'), ('B', 'x', '1'), ('B', 'x', '2'), ('B', 'x', '3'), ('B', 'x', '4'), ('B', 'y', '1'), ('B', 'y', '2'), ('B', 'y', '3'), ('B', 'y', '4'), ('C', 'x', '1'), ('C', 'x', '2'), ('C', 'x', '3'), ('C', 'x', '4'), ('C', 'y', '1'), ('C', 'y', '2'), ('C', 'y', '3'), ('C', 'y', '4'), ('D', 'x', '1'), ('D', 'x', '2'), ('D', 'x', '3'), ('D', 'x', '4'), ('D', 'y', '1'), ('D', 'y', '2'), ('D', 'y', '3'), ('D', 'y', '4')]\n"
     ]
    }
   ],
   "source": [
    "#복잡한 구현\n",
    "iterable1 = 'ABCD'\n",
    "iterable2 = 'xy'\n",
    "iterable3 = '1234'\n",
    "\n",
    "for value1 in iterable1:\n",
    "    for value2 in iterable2:\n",
    "        for value3 in iterable3:\n",
    "            print(value1, value2, value3)\n",
    "\n",
    "#itertools활용\n",
    "import itertools\n",
    "\n",
    "print(list(itertools.product(iterable1, iterable2, iterable3)))"
   ]
  },
  {
   "cell_type": "markdown",
   "metadata": {},
   "source": [
    "### <span style='color: #fcba03'>2. 2차원 리스트를 1차원 리스트로 만들기</span>\n",
    "- sum 활용\n",
    "- itertools 활용\n",
    "- list comprehension 활용\n",
    "- reduce 활용\n",
    "- numpy활용\n",
    "  - numpy의 경우 각 원소의 길이가 동일한 경우에만 사용 가능"
   ]
  },
  {
   "cell_type": "code",
   "execution_count": 13,
   "metadata": {},
   "outputs": [
    {
     "name": "stdout",
     "output_type": "stream",
     "text": [
      "1 [1, 2, 3, 4, 5, 6]\n",
      "2 [1, 2, 3, 4, 5, 6]\n",
      "3 [1, 2, 3, 4, 5, 6]\n",
      "4 [1, 2, 3, 4, 5, 6]\n",
      "5 [1, 2, 3, 4, 5, 6]\n",
      "6 [1, 2, 3, 4, 5, 6]\n",
      "7 [1, 2, 3, 4, 5, 6]\n"
     ]
    }
   ],
   "source": [
    "#for문 활용\n",
    "mylist = [[1, 2], [3, 4], [5, 6]]\n",
    "answer1 = []\n",
    "for el in mylist:\n",
    "  answer1 += el\n",
    "print(1, answer1)\n",
    "\n",
    "#sum활용\n",
    "answer2 = sum(mylist, [])\n",
    "print(2, answer2)\n",
    "\n",
    "#itertools활용\n",
    "import itertools\n",
    "\n",
    "answer3 = list(itertools.chain.from_iterable(mylist))\n",
    "print(3, answer3)\n",
    "\n",
    "#?unpakcing과 함께 활용\n",
    "answer4 = list(itertools.chain(*mylist))\n",
    "print(4, answer4)\n",
    "\n",
    "#list comprehension 활용\n",
    "answer5 = [el for array in mylist for el in array]\n",
    "print(5, answer5)\n",
    "\n",
    "#reduce활용\n",
    "from functools import reduce \n",
    "\n",
    "answer6 = reduce(lambda x,y: x+y, mylist)\n",
    "print(6, answer6)\n",
    "\n",
    "#?operator와 함께 할용\n",
    "import operator\n",
    "\n",
    "answer7 = reduce(operator.add, mylist)\n",
    "print(7, answer7)"
   ]
  }
 ],
 "metadata": {
  "kernelspec": {
   "display_name": "Python 3.10.2 64-bit",
   "language": "python",
   "name": "python3"
  },
  "language_info": {
   "codemirror_mode": {
    "name": "ipython",
    "version": 3
   },
   "file_extension": ".py",
   "mimetype": "text/x-python",
   "name": "python",
   "nbconvert_exporter": "python",
   "pygments_lexer": "ipython3",
   "version": "3.10.2"
  },
  "orig_nbformat": 4,
  "vscode": {
   "interpreter": {
    "hash": "369f2c481f4da34e4445cda3fffd2e751bd1c4d706f27375911949ba6bb62e1c"
   }
  }
 },
 "nbformat": 4,
 "nbformat_minor": 2
}
