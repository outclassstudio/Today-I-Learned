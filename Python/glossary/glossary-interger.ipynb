{
 "cells": [
  {
   "cell_type": "markdown",
   "metadata": {},
   "source": [
    "### <span style='color: #fcba03'>1. divmod</span>\n",
    "- 몫과 나머지를 구할 수 있는 함수\n",
    "- 작은 숫자에서는 // 와 %로 몫과 나머지를 구하는 게 빠름\n",
    "- 큰 숫자에서는 divmod가 더 빠름\n",
    "- [참고링크: StackOverflow](https://stackoverflow.com/questions/30079879/is-divmod-faster-than-using-the-and-operators)"
   ]
  },
  {
   "cell_type": "code",
   "execution_count": 4,
   "metadata": {},
   "outputs": [
    {
     "name": "stdout",
     "output_type": "stream",
     "text": [
      "(1, 2)\n",
      "1 2\n"
     ]
    }
   ],
   "source": [
    "#일반적인 풀이\n",
    "a = 7\n",
    "b = 5\n",
    "print(a//b, a%b)\n",
    "\n",
    "#divmod를 활용한 풀이\n",
    "print(divmod(a,b))\n",
    "\n",
    "#*unpacking을 활용해볼 수 있다\n",
    "print(*divmod(a,b))"
   ]
  },
  {
   "cell_type": "markdown",
   "metadata": {},
   "source": [
    "[공부필요] Packing, UnPacking"
   ]
  },
  {
   "cell_type": "markdown",
   "metadata": {},
   "source": [
    "### <span style='color: #fcba03'>2. int</span>\n",
    "- 정수형의 숫자를 만드는 함수\n",
    "- 다른 진법의 숫자를 10진법으로 변환 가능(js의 parseInt와 같음)\n",
    "- 파이썬의 int는 범위가 무제한임\n",
    "- [참고링크: Velog](https://velog.io/@toezilla/1D1Q-001.-Python%EC%9D%98-int-%EC%9E%90%EB%A3%8C%ED%98%95%EC%9D%80-%EC%96%B4%EB%96%BB%EA%B2%8C-%EB%B2%94%EC%9C%84%EA%B0%80-%EB%AC%B4%EC%A0%9C%ED%95%9C%EC%9D%BC%EA%B9%8C)"
   ]
  },
  {
   "cell_type": "code",
   "execution_count": 3,
   "metadata": {},
   "outputs": [
    {
     "name": "stdout",
     "output_type": "stream",
     "text": [
      "432\n",
      "432\n"
     ]
    }
   ],
   "source": [
    "#일반적인 풀이\n",
    "num = '3212'\n",
    "base = 5\n",
    "\n",
    "answer = 0\n",
    "for idx, number in enumerate(num[::-1]):\n",
    "    answer += int(number) * (base ** idx)\n",
    "print(answer)\n",
    "\n",
    "#int를 활용한 풀이\n",
    "#?n진법의 수의 경우 string이어야 함.\n",
    "num = '3212'\n",
    "base = 5\n",
    "answer = int(num, base)\n",
    "print(answer)"
   ]
  },
  {
   "cell_type": "markdown",
   "metadata": {},
   "source": [
    "- list[::-1]\n",
    "  - 리스트를 반전시킴\n",
    "  - reverse는 값을 반환하지 않고 원본 리스트를 섞는다면\n",
    "  - [::-1]의 경우 새로운 리스트를 반환한다 → 새로운 배열을 만드는 것이기 때문에 성능면에서 추천하는 방법은 아님"
   ]
  },
  {
   "cell_type": "markdown",
   "metadata": {},
   "source": [
    "[공부필요] enumerate"
   ]
  }
 ],
 "metadata": {
  "kernelspec": {
   "display_name": "Python 3.10.2 64-bit",
   "language": "python",
   "name": "python3"
  },
  "language_info": {
   "codemirror_mode": {
    "name": "ipython",
    "version": 3
   },
   "file_extension": ".py",
   "mimetype": "text/x-python",
   "name": "python",
   "nbconvert_exporter": "python",
   "pygments_lexer": "ipython3",
   "version": "3.10.2"
  },
  "orig_nbformat": 4,
  "vscode": {
   "interpreter": {
    "hash": "369f2c481f4da34e4445cda3fffd2e751bd1c4d706f27375911949ba6bb62e1c"
   }
  }
 },
 "nbformat": 4,
 "nbformat_minor": 2
}
