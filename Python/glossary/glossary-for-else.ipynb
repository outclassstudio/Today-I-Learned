{
 "cells": [
  {
   "cell_type": "markdown",
   "metadata": {},
   "source": [
    "### <span style='color: #fcba03'>for - else</span>\n"
   ]
  },
  {
   "cell_type": "code",
   "execution_count": null,
   "metadata": {},
   "outputs": [],
   "source": [
    "#flag이용\n",
    "import math\n",
    "\n",
    "if __name__ == '__main__':\n",
    "    numbers = [int(input()) for _ in range(5)]\n",
    "    multiplied = 1\n",
    "    flag = True\n",
    "    for number in numbers:\n",
    "        multiplied *= number\n",
    "        if math.sqrt(multiplied) == int(math.sqrt(multiplied)):\n",
    "            flag = False\n",
    "            print('found')\n",
    "            break\n",
    "\n",
    "    if flag:\n",
    "        print('not found')\n",
    "\n",
    "#for - else이용\n",
    "#for문과 else문을 함께 쓸 수 있다\n",
    "if __name__ == '__main__':\n",
    "    numbers = [int(input()) for _ in range(5)]\n",
    "    multiplied = 1\n",
    "    for number in numbers:\n",
    "        multiplied *= number\n",
    "        if math.sqrt(multiplied) == int(math.sqrt(multiplied)):\n",
    "            print('found')\n",
    "            break\n",
    "    else:\n",
    "        print('not found')"
   ]
  }
 ],
 "metadata": {
  "kernelspec": {
   "display_name": "Python 3.10.2 64-bit",
   "language": "python",
   "name": "python3"
  },
  "language_info": {
   "name": "python",
   "version": "3.10.2"
  },
  "orig_nbformat": 4,
  "vscode": {
   "interpreter": {
    "hash": "369f2c481f4da34e4445cda3fffd2e751bd1c4d706f27375911949ba6bb62e1c"
   }
  }
 },
 "nbformat": 4,
 "nbformat_minor": 2
}
