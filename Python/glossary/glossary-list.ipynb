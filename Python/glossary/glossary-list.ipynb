{
 "cells": [
  {
   "cell_type": "markdown",
   "metadata": {},
   "source": [
    "### <span style='color: #fcba03'>1. sorted()</span>\n",
    "- sort()의 경우 원본 리스트을 변경함\n",
    "- sorted()의 경우 원본 리스트를 변경하지 않고 새로운 리스트를 반환함 "
   ]
  },
  {
   "cell_type": "code",
   "execution_count": 4,
   "metadata": {},
   "outputs": [
    {
     "name": "stdout",
     "output_type": "stream",
     "text": [
      "[1, 2, 3, 5]\n",
      "[1, 2, 3, 5]\n",
      "[1, 2, 3, 5]\n"
     ]
    }
   ],
   "source": [
    "#sorted()를 사용하지 않은 풀이\n",
    "list1 = [3, 2, 5, 1]\n",
    "list2 = [i for i in list1] \n",
    "list2.sort()\n",
    "print(list2)\n",
    "\n",
    "# 또는 copy.deepcopy를 사용\n",
    "import copy\n",
    "list3 = copy.deepcopy(list1)\n",
    "list3.sort()\n",
    "print(list3)\n",
    "\n",
    "#sorted()사용\n",
    "list4 = sorted(list1)\n",
    "print(list4)"
   ]
  },
  {
   "cell_type": "markdown",
   "metadata": {},
   "source": [
    "### <span style='color: #fcba03'>2. zip</span>\n",
    "- 인자로 받은 각 iterable중 동일한 index를 가진 원소들을 모아준다\n",
    "- 튜플을 반환한다\n",
    "- index를 사용하지 않고 각 원소에 접근 가능하다\n",
    "- 인자의 iterable의 길이가 다를 경우, 매치되는 인자의 갯수만큼까지만 적용된다."
   ]
  },
  {
   "cell_type": "code",
   "execution_count": 8,
   "metadata": {},
   "outputs": [
    {
     "name": "stdout",
     "output_type": "stream",
     "text": [
      "[[1, 4, 7], [2, 5, 8], [3, 6, 9]]\n",
      "[[1, 4, 7], [2, 5, 8], [3, 6, 9]]\n"
     ]
    }
   ],
   "source": [
    "#복잡한 코드 예시\n",
    "mylist = [[1, 2, 3], [4, 5, 6], [7, 8, 9]]\n",
    "new_list = [[], [], []]\n",
    "\n",
    "for i in range(len(mylist)):\n",
    "    for j in range(len(mylist[i])):\n",
    "        new_list[i].append(mylist[j][i])\n",
    "print(new_list)\n",
    "\n",
    "#zip활용\n",
    "zip_list = list(map(list, zip(*mylist)))\n",
    "print(zip_list)"
   ]
  },
  {
   "cell_type": "markdown",
   "metadata": {},
   "source": [
    "map(fn, iterable)\n",
    "- iterable에 fn을 적용한 값을 반환함\n",
    "\n",
    "list(iterable)\n",
    "- iterable을 받아 list로 반환함\n",
    "\n",
    "*: unpacking\n",
    "- js의 spread syntax와 비슷한 역할"
   ]
  },
  {
   "cell_type": "code",
   "execution_count": 9,
   "metadata": {},
   "outputs": [
    {
     "name": "stdout",
     "output_type": "stream",
     "text": [
      "1 [35, 35, 9, 67, 60]\n",
      "2 [35, 35, 9, 67, 60]\n",
      "3 [35, 35, 9, 67, 60]\n"
     ]
    }
   ],
   "source": [
    "#두번째 예제\n",
    "#복잡한 것\n",
    "mylist = [83, 48, 13, 4, 71, 11] \n",
    "\n",
    "def solution(mylist):\n",
    "    answer = []\n",
    "    for i in range(len(mylist)-1):\n",
    "        answer.append(abs(mylist[i] - mylist[i+1]))\n",
    "    return answer\n",
    "\n",
    "print(1, solution(mylist))\n",
    "\n",
    "#zip이용\n",
    "def solution(mylist):\n",
    "    answer = []\n",
    "    for number1, number2 in zip(mylist, mylist[1:]):\n",
    "        answer.append(abs(number1 - number2))\n",
    "    return answer\n",
    "\n",
    "print(2, solution(mylist))\n",
    "\n",
    "#내가 짠 것\n",
    "def solution(mylist):\n",
    "    new_list = [abs(x - y) for x,y in zip(mylist, mylist[1:])]\n",
    "    return new_list\n",
    "\n",
    "print(3, solution(mylist))"
   ]
  },
  {
   "cell_type": "code",
   "execution_count": 10,
   "metadata": {},
   "outputs": [
    {
     "name": "stdout",
     "output_type": "stream",
     "text": [
      "[1, 100, 33]\n",
      "[1, 100, 33]\n"
     ]
    }
   ],
   "source": [
    "#map예제\n",
    "#복잡한 구현\n",
    "list1 = ['1', '100', '33']\n",
    "list2 = []\n",
    "for value in list1:\n",
    "    list2.append(int(value))\n",
    "\n",
    "print(list2)\n",
    "\n",
    "#간단한구현\n",
    "#?근데 왜 list로 감싸줘야 하냐\n",
    "list3 = list(map(int, list1))\n",
    "\n",
    "print(list3)"
   ]
  }
 ],
 "metadata": {
  "kernelspec": {
   "display_name": "Python 3.10.2 64-bit",
   "language": "python",
   "name": "python3"
  },
  "language_info": {
   "codemirror_mode": {
    "name": "ipython",
    "version": 3
   },
   "file_extension": ".py",
   "mimetype": "text/x-python",
   "name": "python",
   "nbconvert_exporter": "python",
   "pygments_lexer": "ipython3",
   "version": "3.10.2"
  },
  "orig_nbformat": 4,
  "vscode": {
   "interpreter": {
    "hash": "369f2c481f4da34e4445cda3fffd2e751bd1c4d706f27375911949ba6bb62e1c"
   }
  }
 },
 "nbformat": 4,
 "nbformat_minor": 2
}
