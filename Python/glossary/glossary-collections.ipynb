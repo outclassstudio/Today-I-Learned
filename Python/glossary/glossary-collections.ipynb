{
 "cells": [
  {
   "cell_type": "markdown",
   "metadata": {},
   "source": [
    "### <span style='color: #fcba03'>가장 많이 등장하는 알파벳 찾기 - Counter</span>\n",
    " - collections.Counter 클래스로 반복되는 원소의 개수 셀 수 있음"
   ]
  },
  {
   "cell_type": "code",
   "execution_count": 1,
   "metadata": {},
   "outputs": [
    {
     "name": "stdout",
     "output_type": "stream",
     "text": [
      "df\n",
      "df\n"
     ]
    }
   ],
   "source": [
    "#for문으로\n",
    "my_str = 'dfdefdgf'\t\n",
    "dic = {}\n",
    "\n",
    "for i in my_str:\n",
    "    if i in dic:\n",
    "        dic[i] += 1\n",
    "    else:\n",
    "        dic[i] = 1\n",
    "\n",
    "values = list(dic.values())\n",
    "maxV = max(values)\n",
    "answer = \"\"\n",
    "\n",
    "for key in dic:\n",
    "    if dic[key] >= maxV:\n",
    "        answer += key\n",
    "        \n",
    "print(\"\".join(sorted(answer)))\n",
    "\n",
    "#collections로\n",
    "import collections\n",
    "\n",
    "counted = collections.Counter(my_str)\n",
    "maxV = max(counted.values())\n",
    "print(\"\".join(sorted([k for k,v in counted.items() if v == maxV])))"
   ]
  }
 ],
 "metadata": {
  "kernelspec": {
   "display_name": "Python 3.10.5 64-bit",
   "language": "python",
   "name": "python3"
  },
  "language_info": {
   "codemirror_mode": {
    "name": "ipython",
    "version": 3
   },
   "file_extension": ".py",
   "mimetype": "text/x-python",
   "name": "python",
   "nbconvert_exporter": "python",
   "pygments_lexer": "ipython3",
   "version": "3.10.5"
  },
  "orig_nbformat": 4,
  "vscode": {
   "interpreter": {
    "hash": "1fcff8c44ad867a3fde6bd0d9737cf77c7c8fef6f4bd00c7d42069f11be0b9e3"
   }
  }
 },
 "nbformat": 4,
 "nbformat_minor": 2
}
