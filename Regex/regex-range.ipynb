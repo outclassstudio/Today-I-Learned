{
 "cells": [
  {
   "cell_type": "markdown",
   "metadata": {},
   "source": [
    "### <span style='color: #fcba03'>n번 반복, n에서 m까지 {}</span>\n",
    "- {숫자}는 어떤 요소를 \"숫자\"번 반복한다\n",
    "- \\d{2}는 \"숫자가 연속 두 번 나온다\"는 뜻\n",
    "- {숫자1, 숫자2}는 어떤 요소를 \"숫자1부터 숫자2까지 반복한다\"는 뜻\n",
    "- 예를 들어, \\w{2,3}는 \"문자가 2 ~ 3번 나온다\"는 뜻"
   ]
  },
  {
   "cell_type": "code",
   "execution_count": 1,
   "metadata": {},
   "outputs": [
    {
     "name": "stdout",
     "output_type": "stream",
     "text": [
      "['02-123-4567']\n",
      "['02-123-4567', '070-9999-9999', '010 2454 3457']\n"
     ]
    }
   ],
   "source": [
    "#정해진 갯수\n",
    "regex1 = r'\\d{2}[ -]?\\d{3}[ -]?\\d{4}'\n",
    "#갯수 범위\n",
    "regex2 = r'\\d{2,3}[ -]?\\d{3,4}[ -]?\\d{4}'\n",
    "\n",
    "search_target = '''이상한 전화번호 0030589-5-95826\n",
    "Luke Skywarker 02-123-4567 luke@daum.net\n",
    "다스베이더 070-9999-9999 darth_vader@gmail.com\n",
    "princess leia 010 2454 3457 leia@gmail.com'''\n",
    "\n",
    "#아래 부분은 본 강의에서 다루지 않습니다.\n",
    "import re\n",
    "result1 = re.findall(regex1, search_target)\n",
    "result2 = re.findall(regex2, search_target)\n",
    "print(result1)\n",
    "print(result2)"
   ]
  }
 ],
 "metadata": {
  "kernelspec": {
   "display_name": "Python 3.10.5 64-bit",
   "language": "python",
   "name": "python3"
  },
  "language_info": {
   "codemirror_mode": {
    "name": "ipython",
    "version": 3
   },
   "file_extension": ".py",
   "mimetype": "text/x-python",
   "name": "python",
   "nbconvert_exporter": "python",
   "pygments_lexer": "ipython3",
   "version": "3.10.5"
  },
  "orig_nbformat": 4,
  "vscode": {
   "interpreter": {
    "hash": "1fcff8c44ad867a3fde6bd0d9737cf77c7c8fef6f4bd00c7d42069f11be0b9e3"
   }
  }
 },
 "nbformat": 4,
 "nbformat_minor": 2
}
