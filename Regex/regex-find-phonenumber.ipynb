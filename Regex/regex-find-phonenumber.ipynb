{
 "cells": [
  {
   "cell_type": "markdown",
   "metadata": {},
   "source": [
    "### <span style='color: #fcba03'>전화번호 찾기</span>\n"
   ]
  },
  {
   "cell_type": "code",
   "execution_count": 5,
   "metadata": {},
   "outputs": [
    {
     "name": "stdout",
     "output_type": "stream",
     "text": [
      "['02-123-4567', '070-9999-9999', '010 2454 3457']\n",
      "02-123-4567\n",
      "070-9999-9999\n",
      "010 2454 3457\n"
     ]
    }
   ],
   "source": [
    "regex = r'0\\d{1,2}[ -]?\\d{3,4}[ -]?\\d{3,4}'  \n",
    "\n",
    "# 주소록\n",
    "search_target = '''Luke Skywarker 02-123-4567 luke@daum.net\n",
    "다스베이더 070-9999-9999 darth_vader@gmail.com\n",
    "princess leia 010 2454 3457 leia@gmail.com'''\n",
    "\n",
    "# 정규표현식과 일치하는 부분을 모두 찾아주는 파이썬 코드입니다.\n",
    "import re\n",
    "result = re.findall(regex, search_target)\n",
    "print(result)\n",
    "print(\"\\n\".join(result))"
   ]
  }
 ],
 "metadata": {
  "kernelspec": {
   "display_name": "Python 3.10.2 64-bit",
   "language": "python",
   "name": "python3"
  },
  "language_info": {
   "codemirror_mode": {
    "name": "ipython",
    "version": 3
   },
   "file_extension": ".py",
   "mimetype": "text/x-python",
   "name": "python",
   "nbconvert_exporter": "python",
   "pygments_lexer": "ipython3",
   "version": "3.10.2"
  },
  "orig_nbformat": 4,
  "vscode": {
   "interpreter": {
    "hash": "369f2c481f4da34e4445cda3fffd2e751bd1c4d706f27375911949ba6bb62e1c"
   }
  }
 },
 "nbformat": 4,
 "nbformat_minor": 2
}
