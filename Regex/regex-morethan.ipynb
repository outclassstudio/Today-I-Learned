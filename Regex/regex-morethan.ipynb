{
 "cells": [
  {
   "cell_type": "markdown",
   "metadata": {},
   "source": [
    "### <span style='color: #fcba03'>하나 이상 +</span>\n",
    "- +는 \"하나 혹은 그 이상 연결된\"이라는 뜻\n",
    "- \\d+는 \"하나 혹은 그 이상 연결된 숫자\"를 의미함\n",
    "\n",
    "### <span style='color: #fcba03'>0개 이상 *</span>\n",
    "- *은 \"0개 이상\"이라는 뜻\n",
    "- \\d*는 \"숫자가 0개 이상이다\"를 의미함\n",
    "- 자연수는 [1-9]\\d*로 표현할 수 있다\n",
    "  - 첫글자에는 1~9사이의 숫자가, 그 이후에는 숫자가 0개이상 나온다는 의미\n"
   ]
  },
  {
   "cell_type": "code",
   "execution_count": 2,
   "metadata": {},
   "outputs": [
    {
     "name": "stdout",
     "output_type": "stream",
     "text": [
      "['02', '123', '4567', '070', '9999', '9999', '010', '2454', '3457']\n",
      "['2', '123', '4567', '70', '9999', '9999', '10', '2454', '3457']\n"
     ]
    }
   ],
   "source": [
    "regex1 = r'\\d+'\n",
    "regex2 = r'[1-9]\\d*'\n",
    "\n",
    "search_target = '''Luke Skywarker 02-123-4567 luke@daum.net\n",
    "다스베이더 070-9999-9999 darth_vader@gmail.com\n",
    "princess leia 010 2454 3457 leia@gmail.com'''\n",
    "\n",
    "import re\n",
    "result1 = re.findall(regex1, search_target)\n",
    "result2 = re.findall(regex2, search_target)\n",
    "print(result1)\n",
    "print(result2)"
   ]
  }
 ],
 "metadata": {
  "kernelspec": {
   "display_name": "Python 3.10.5 64-bit",
   "language": "python",
   "name": "python3"
  },
  "language_info": {
   "codemirror_mode": {
    "name": "ipython",
    "version": 3
   },
   "file_extension": ".py",
   "mimetype": "text/x-python",
   "name": "python",
   "nbconvert_exporter": "python",
   "pygments_lexer": "ipython3",
   "version": "3.10.5"
  },
  "orig_nbformat": 4,
  "vscode": {
   "interpreter": {
    "hash": "1fcff8c44ad867a3fde6bd0d9737cf77c7c8fef6f4bd00c7d42069f11be0b9e3"
   }
  }
 },
 "nbformat": 4,
 "nbformat_minor": 2
}
