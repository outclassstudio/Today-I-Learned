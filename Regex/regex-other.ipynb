{
 "cells": [
  {
   "cell_type": "markdown",
   "metadata": {},
   "source": [
    "### <span style='color: #fcba03'>기타 대표문자</span>\n",
    "- \\s 공백 문자(스페이스, 탭, 뉴라인)\n",
    "- \\S 공백 문자를 제외한 문자\n",
    "- \\D 숫자를 제외한 문자\n",
    "- \\W 글자 대표 문자를 제외한 글자들(특수문자, 공백 등)"
   ]
  }
 ],
 "metadata": {
  "kernelspec": {
   "display_name": "Python 3.10.5 64-bit",
   "language": "python",
   "name": "python3"
  },
  "language_info": {
   "name": "python",
   "version": "3.10.5"
  },
  "orig_nbformat": 4,
  "vscode": {
   "interpreter": {
    "hash": "1fcff8c44ad867a3fde6bd0d9737cf77c7c8fef6f4bd00c7d42069f11be0b9e3"
   }
  }
 },
 "nbformat": 4,
 "nbformat_minor": 2
}
