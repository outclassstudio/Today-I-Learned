{
 "cells": [
  {
   "cell_type": "markdown",
   "metadata": {},
   "source": [
    "### <span style='color: #fcba03'>특정 문자 고르기</span>\n",
    "- 알파벳 중에 특정문자를 고르고 싶을때 ex) 소문자 모음(a,e,i,o,u)\n",
    "- [aeiou]\n",
    "\n",
    "### <span style='color: #fcba03'>알파벳 소문자 고르기</span>\n",
    "- [a-z]\n",
    "\n",
    "### <span style='color: #fcba03'>한글 고르기</span>\n",
    "- [가-힣]\n",
    "\n",
    "### <span style='color: #fcba03'>연속된 문자열을 고르려면</span>\n",
    "- []+"
   ]
  },
  {
   "cell_type": "code",
   "execution_count": 5,
   "metadata": {},
   "outputs": [
    {
     "name": "stdout",
     "output_type": "stream",
     "text": [
      "['u', 'e', 'a', 'e', 'u', 'e', 'a', 'u', 'e', 'a', 'a', 'e', 'a', 'i', 'o', 'i', 'e', 'e', 'i', 'a', 'e', 'i', 'a', 'a', 'i', 'o']\n",
      "['u', 'k', 'e', 'k', 'y', 'w', 'a', 'r', 'k', 'e', 'r', 'l', 'u', 'k', 'e', 'd', 'a', 'u', 'm', 'n', 'e', 't', 'd', 'a', 'r', 't', 'h', 'v', 'a', 'd', 'e', 'r', 'g', 'm', 'a', 'i', 'l', 'c', 'o', 'm', 'p', 'r', 'i', 'n', 'c', 'e', 's', 's', 'l', 'e', 'i', 'a', 'l', 'e', 'i', 'a', 'g', 'm', 'a', 'i', 'l', 'c', 'o', 'm']\n",
      "['다', '스', '베', '이', '더']\n",
      "['uke', 'kywarker', 'luke', 'daum', 'net', 'darth', 'vader', 'gmail', 'com', 'princess', 'leia', 'leia', 'gmail', 'com']\n",
      "['다스베이더']\n"
     ]
    }
   ],
   "source": [
    "regex1 = r'[aeiou]'\n",
    "regex2 = r'[a-z]'\n",
    "regex3 = r'[가-힣]'\n",
    "regex4 = r'[a-z]+'\n",
    "regex5 = r'[가-힣]+'\n",
    "\n",
    "search_target = '''Luke Skywarker 02-123-4567 luke@daum.net\n",
    "다스베이더 070-9999-9999 darth_vader@gmail.com\n",
    "princess leia 010 2454 3457 leia@gmail.com'''\n",
    "\n",
    "# 정규표현식과 일치하는 부분을 모두 찾아주는 파이썬 코드입니다.\n",
    "import re\n",
    "result1 = re.findall(regex1, search_target)\n",
    "result2 = re.findall(regex2, search_target)\n",
    "result3 = re.findall(regex3, search_target)\n",
    "result4 = re.findall(regex4, search_target)\n",
    "result5 = re.findall(regex5, search_target)\n",
    "print(result1)\n",
    "print(result2)\n",
    "print(result3)\n",
    "print(result4)\n",
    "print(result5)"
   ]
  }
 ],
 "metadata": {
  "kernelspec": {
   "display_name": "Python 3.10.5 64-bit",
   "language": "python",
   "name": "python3"
  },
  "language_info": {
   "codemirror_mode": {
    "name": "ipython",
    "version": 3
   },
   "file_extension": ".py",
   "mimetype": "text/x-python",
   "name": "python",
   "nbconvert_exporter": "python",
   "pygments_lexer": "ipython3",
   "version": "3.10.5"
  },
  "orig_nbformat": 4,
  "vscode": {
   "interpreter": {
    "hash": "1fcff8c44ad867a3fde6bd0d9737cf77c7c8fef6f4bd00c7d42069f11be0b9e3"
   }
  }
 },
 "nbformat": 4,
 "nbformat_minor": 2
}
