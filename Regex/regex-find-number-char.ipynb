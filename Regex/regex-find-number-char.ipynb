{
 "cells": [
  {
   "cell_type": "markdown",
   "metadata": {},
   "source": [
    "### <span style='color: #fcba03'>숫자 찾기 \\d</span>\n",
    "- \\d는 숫자를 대표하는 정규표현식\n",
    "- d는 digit을 뜻한다.\n",
    "\n",
    "### <span style='color: #fcba03'>글자 찾기 \\w</span>\n",
    "- \\w는 글자를 대표하는 정규표현식\n",
    "- \\w는 a, b, c, 가, 나, 다, 1, 2와 같은 문자와 숫자를 포함한다.\n",
    "- 특수문자는 포함하지 않지만, _(언더스코어)는 포함한다."
   ]
  },
  {
   "cell_type": "code",
   "execution_count": 2,
   "metadata": {},
   "outputs": [
    {
     "name": "stdout",
     "output_type": "stream",
     "text": [
      "['0', '2', '1', '2', '3', '4', '5', '6', '7', '0', '7', '0', '9', '9', '9', '9', '9', '9', '9', '9', '0', '1', '0', '2', '4', '5', '4', '3', '4', '5', '7']\n",
      "['L', 'u', 'k', 'e', 'S', 'k', 'y', 'w', 'a', 'r', 'k', 'e', 'r', '0', '2', '1', '2', '3', '4', '5', '6', '7', 'l', 'u', 'k', 'e', 'd', 'a', 'u', 'm', 'n', 'e', 't', '다', '스', '베', '이', '더', '0', '7', '0', '9', '9', '9', '9', '9', '9', '9', '9', 'd', 'a', 'r', 't', 'h', '_', 'v', 'a', 'd', 'e', 'r', 'g', 'm', 'a', 'i', 'l', 'c', 'o', 'm', 'p', 'r', 'i', 'n', 'c', 'e', 's', 's', 'l', 'e', 'i', 'a', '0', '1', '0', '2', '4', '5', '4', '3', '4', '5', '7', 'l', 'e', 'i', 'a', 'g', 'm', 'a', 'i', 'l', 'c', 'o', 'm']\n"
     ]
    }
   ],
   "source": [
    "regexD = r'\\d'\n",
    "regexW = r'\\w'\n",
    "\n",
    "# 주소록\n",
    "search_target = '''Luke Skywarker 02-123-4567 luke@daum.net\n",
    "다스베이더 070-9999-9999 darth_vader@gmail.com\n",
    "princess leia 010 2454 3457 leia@gmail.com'''\n",
    "\n",
    "# 정규표현식과 일치하는 부분을 모두 찾아주는 파이썬 코드입니다.\n",
    "import re\n",
    "resultD = re.findall(regexD, search_target)\n",
    "resultW = re.findall(regexW, search_target)\n",
    "print(resultD)\n",
    "print(resultW)"
   ]
  }
 ],
 "metadata": {
  "kernelspec": {
   "display_name": "Python 3.10.5 64-bit",
   "language": "python",
   "name": "python3"
  },
  "language_info": {
   "codemirror_mode": {
    "name": "ipython",
    "version": 3
   },
   "file_extension": ".py",
   "mimetype": "text/x-python",
   "name": "python",
   "nbconvert_exporter": "python",
   "pygments_lexer": "ipython3",
   "version": "3.10.5"
  },
  "orig_nbformat": 4,
  "vscode": {
   "interpreter": {
    "hash": "1fcff8c44ad867a3fde6bd0d9737cf77c7c8fef6f4bd00c7d42069f11be0b9e3"
   }
  }
 },
 "nbformat": 4,
 "nbformat_minor": 2
}
